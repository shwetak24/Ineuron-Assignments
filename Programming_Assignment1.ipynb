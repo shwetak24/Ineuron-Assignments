{
 "cells": [
  {
   "cell_type": "markdown",
   "metadata": {},
   "source": [
    "Basics Of Python Programming"
   ]
  },
  {
   "cell_type": "markdown",
   "metadata": {},
   "source": [
    "Programming_Assignment1"
   ]
  },
  {
   "cell_type": "code",
   "execution_count": 2,
   "metadata": {},
   "outputs": [
    {
     "name": "stdout",
     "output_type": "stream",
     "text": [
      "Hello Python\n"
     ]
    }
   ],
   "source": [
    "#Program to print hello python\n",
    "print(\"Hello Python\")"
   ]
  },
  {
   "cell_type": "code",
   "execution_count": 10,
   "metadata": {},
   "outputs": [
    {
     "name": "stdout",
     "output_type": "stream",
     "text": [
      "Enter the first number: 10\n",
      "Enter the second number: 5\n",
      "Addition of two numbers is  15\n",
      "Division of two numbers is  2.0\n"
     ]
    }
   ],
   "source": [
    "#Program to do arithmetical operation addition and subraction\n",
    "a = int(input(\"Enter the first number: \"))\n",
    "b = int(input(\"Enter the second number: \"))\n",
    "print(\"Addition of two numbers is \", a+b)\n",
    "print(\"Division of two numbers is \", a/b)"
   ]
  },
  {
   "cell_type": "code",
   "execution_count": 11,
   "metadata": {},
   "outputs": [
    {
     "name": "stdout",
     "output_type": "stream",
     "text": [
      "Enter the value of the base - 4\n",
      "Enter the value of the height - 2\n",
      "Area of the Triangle is  4.0\n"
     ]
    }
   ],
   "source": [
    "#Program to find the area of triangle \n",
    "base = int(input(\"Enter the value of the base - \"))\n",
    "height = int(input(\"Enter the value of the height - \"))\n",
    "area = (1/2)*base*height\n",
    "print(\"Area of the Triangle is \", area)\n"
   ]
  },
  {
   "cell_type": "code",
   "execution_count": 18,
   "metadata": {},
   "outputs": [
    {
     "name": "stdout",
     "output_type": "stream",
     "text": [
      "Enter the value for a = 5\n",
      "Enter the value for b = 6\n",
      "a =  6\n",
      "b =  5\n"
     ]
    }
   ],
   "source": [
    "#Program to swap two variables\n",
    "a = int(input(\"Enter the value for a = \"))\n",
    "b = int(input(\"Enter the value for b = \"))\n",
    "\n",
    "c = a\n",
    "a = b\n",
    "b = c\n",
    "#after swapping\n",
    "print(\"a = \", a)\n",
    "print(\"b = \", b)"
   ]
  },
  {
   "cell_type": "code",
   "execution_count": 24,
   "metadata": {},
   "outputs": [
    {
     "name": "stdout",
     "output_type": "stream",
     "text": [
      "0.5247825771126279\n"
     ]
    }
   ],
   "source": [
    "#Program to generate a random number\n",
    "import random\n",
    "num = random.random()\n",
    "print(num)\n"
   ]
  },
  {
   "cell_type": "code",
   "execution_count": null,
   "metadata": {},
   "outputs": [],
   "source": []
  },
  {
   "cell_type": "raw",
   "metadata": {},
   "source": []
  }
 ],
 "metadata": {
  "kernelspec": {
   "display_name": "Python 3",
   "language": "python",
   "name": "python3"
  },
  "language_info": {
   "codemirror_mode": {
    "name": "ipython",
    "version": 3
   },
   "file_extension": ".py",
   "mimetype": "text/x-python",
   "name": "python",
   "nbconvert_exporter": "python",
   "pygments_lexer": "ipython3",
   "version": "3.8.5"
  }
 },
 "nbformat": 4,
 "nbformat_minor": 4
}
