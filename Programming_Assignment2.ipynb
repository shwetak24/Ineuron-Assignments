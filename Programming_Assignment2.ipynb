{
 "cells": [
  {
   "cell_type": "markdown",
   "metadata": {},
   "source": [
    "Python Programming_Assignment2\n"
   ]
  },
  {
   "cell_type": "code",
   "execution_count": 10,
   "metadata": {},
   "outputs": [
    {
     "name": "stdout",
     "output_type": "stream",
     "text": [
      "Enter the kilometers for the conversion 10\n",
      "Miles =  6.21371\n"
     ]
    }
   ],
   "source": [
    "#Program to convert Kilometers in to Miles\n",
    "kms = int(input(\"Enter the kilometers for the conversion \"))\n",
    "#1km = 0.621371\n",
    "m = 0.621371*kms\n",
    "print(\"Miles = \", m)"
   ]
  },
  {
   "cell_type": "code",
   "execution_count": 12,
   "metadata": {},
   "outputs": [
    {
     "name": "stdout",
     "output_type": "stream",
     "text": [
      "Enter the celsius 25\n",
      "Fahrenheit =  77.0\n"
     ]
    }
   ],
   "source": [
    "#Program to convert Celsius into Fahrenheit\n",
    "c = int(input(\"Enter the celsius \"))\n",
    "#1 Celsius  = 33.8F\n",
    "f = (c * 9/5) + 32\n",
    "print(\"Fahrenheit = \", f)"
   ]
  },
  {
   "cell_type": "code",
   "execution_count": 17,
   "metadata": {},
   "outputs": [
    {
     "name": "stdout",
     "output_type": "stream",
     "text": [
      "Calendar for the year 2021\n",
      "\n",
      "                                           2021\n",
      "\n",
      "          January                        February                        March\n",
      "Mon Tue Wed Thu Fri Sat Sun    Mon Tue Wed Thu Fri Sat Sun    Mon Tue Wed Thu Fri Sat Sun\n",
      "                  1   2   3      1   2   3   4   5   6   7      1   2   3   4   5   6   7\n",
      "  4   5   6   7   8   9  10      8   9  10  11  12  13  14      8   9  10  11  12  13  14\n",
      " 11  12  13  14  15  16  17     15  16  17  18  19  20  21     15  16  17  18  19  20  21\n",
      " 18  19  20  21  22  23  24     22  23  24  25  26  27  28     22  23  24  25  26  27  28\n",
      " 25  26  27  28  29  30  31                                    29  30  31\n",
      "\n",
      "           April                           May                            June\n",
      "Mon Tue Wed Thu Fri Sat Sun    Mon Tue Wed Thu Fri Sat Sun    Mon Tue Wed Thu Fri Sat Sun\n",
      "              1   2   3   4                          1   2          1   2   3   4   5   6\n",
      "  5   6   7   8   9  10  11      3   4   5   6   7   8   9      7   8   9  10  11  12  13\n",
      " 12  13  14  15  16  17  18     10  11  12  13  14  15  16     14  15  16  17  18  19  20\n",
      " 19  20  21  22  23  24  25     17  18  19  20  21  22  23     21  22  23  24  25  26  27\n",
      " 26  27  28  29  30             24  25  26  27  28  29  30     28  29  30\n",
      "                                31\n",
      "\n",
      "            July                          August                       September\n",
      "Mon Tue Wed Thu Fri Sat Sun    Mon Tue Wed Thu Fri Sat Sun    Mon Tue Wed Thu Fri Sat Sun\n",
      "              1   2   3   4                              1              1   2   3   4   5\n",
      "  5   6   7   8   9  10  11      2   3   4   5   6   7   8      6   7   8   9  10  11  12\n",
      " 12  13  14  15  16  17  18      9  10  11  12  13  14  15     13  14  15  16  17  18  19\n",
      " 19  20  21  22  23  24  25     16  17  18  19  20  21  22     20  21  22  23  24  25  26\n",
      " 26  27  28  29  30  31         23  24  25  26  27  28  29     27  28  29  30\n",
      "                                30  31\n",
      "\n",
      "          October                        November                       December\n",
      "Mon Tue Wed Thu Fri Sat Sun    Mon Tue Wed Thu Fri Sat Sun    Mon Tue Wed Thu Fri Sat Sun\n",
      "                  1   2   3      1   2   3   4   5   6   7              1   2   3   4   5\n",
      "  4   5   6   7   8   9  10      8   9  10  11  12  13  14      6   7   8   9  10  11  12\n",
      " 11  12  13  14  15  16  17     15  16  17  18  19  20  21     13  14  15  16  17  18  19\n",
      " 18  19  20  21  22  23  24     22  23  24  25  26  27  28     20  21  22  23  24  25  26\n",
      " 25  26  27  28  29  30  31     29  30                         27  28  29  30  31\n",
      "\n"
     ]
    }
   ],
   "source": [
    "#Program to display calendar\n",
    "import calendar\n",
    "print(\"Calendar for the year 2021\\n\")\n",
    "print(calendar.calendar(2021,3,1,4))"
   ]
  },
  {
   "cell_type": "code",
   "execution_count": 6,
   "metadata": {},
   "outputs": [
    {
     "name": "stdout",
     "output_type": "stream",
     "text": [
      "Enter the number which is not equal to zero6\n",
      "Enter the number 7\n",
      "Enter the number 1\n",
      "The solutions are (-36+0j) and (-6+0j)\n"
     ]
    }
   ],
   "source": [
    "#Program to solve a Quadratic equation\n",
    "#ax^2+bx+c = 0 where a, b, c, are real numbers and a!=0\n",
    "import cmath\n",
    "a = int(input(\"Enter the number which is not equal to zero\"))\n",
    "if a==0:\n",
    "    print(\"Please re-enter the number \")\n",
    "    a = int(input(\"Enter the number which is not equal to zero\"))\n",
    "\n",
    "b = int(input(\"Enter the number \"))\n",
    "c = int(input(\"Enter the number \"))\n",
    "\n",
    "#Calculating the value of b**2-4ac\n",
    "d = (b**2)-4*a*c\n",
    "\n",
    "x = (-b-cmath.sqrt(d))/2*a*c\n",
    "y = (-b+cmath.sqrt(d))/2*a*c\n",
    "print(\"The solutions are {0} and {1}\".format(x,y))\n"
   ]
  },
  {
   "cell_type": "code",
   "execution_count": 12,
   "metadata": {},
   "outputs": [
    {
     "name": "stdout",
     "output_type": "stream",
     "text": [
      "Enter the first number 0\n",
      "Enter the second number 1\n",
      "n1  0.0\n",
      "n2  1.0\n",
      "n1  1.0\n",
      "n2  0.0\n"
     ]
    }
   ],
   "source": [
    "#Program to swap a number without temp variable\n",
    "n1 = float(input(\"Enter the first number \"))\n",
    "n2 = float(input(\"Enter the second number \"))\n",
    "print(\"n1 \", n1)\n",
    "print(\"n2 \", n2)\n",
    "\n",
    "#Swapping the two numbers\n",
    "n1 = n1+n2\n",
    "n2 = n1-n2\n",
    "n1 = n1-n2\n",
    "\n",
    "print(\"n1 \", n1)\n",
    "print(\"n2 \", n2)\n"
   ]
  }
 ],
 "metadata": {
  "kernelspec": {
   "display_name": "Python 3",
   "language": "python",
   "name": "python3"
  },
  "language_info": {
   "codemirror_mode": {
    "name": "ipython",
    "version": 3
   },
   "file_extension": ".py",
   "mimetype": "text/x-python",
   "name": "python",
   "nbconvert_exporter": "python",
   "pygments_lexer": "ipython3",
   "version": "3.8.5"
  }
 },
 "nbformat": 4,
 "nbformat_minor": 4
}
